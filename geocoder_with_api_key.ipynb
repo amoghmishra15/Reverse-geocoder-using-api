{
 "cells": [
  {
   "cell_type": "code",
   "execution_count": 1,
   "metadata": {},
   "outputs": [],
   "source": [
    "import googlemaps\n",
    "from datetime import datetime\n",
    "import pandas as pd\n",
    "import json"
   ]
  },
  {
   "cell_type": "code",
   "execution_count": 2,
   "metadata": {},
   "outputs": [],
   "source": [
    "gmaps = googlemaps.Client(key='INSERT API KEY HERE')"
   ]
  },
  {
   "cell_type": "code",
   "execution_count": 4,
   "metadata": {},
   "outputs": [],
   "source": [
    "df=pd.read_excel(\"geocode.xlsx\") # enter file name here\n",
    "geo = df['Lat long'].to_list() # enter the name of the column that contains geocodes\n",
    "df1 = pd.DataFrame()"
   ]
  },
  {
   "cell_type": "code",
   "execution_count": null,
   "metadata": {},
   "outputs": [],
   "source": [
    "# Look up an address with reverse geocoding\n",
    "for i, geocode in enumerate(geo):\n",
    "    location = gmaps.reverse_geocode((geocode))\n",
    "    loc = location[0]\n",
    "    data = {}\n",
    "    data['Geocodes'] = geo[i]\n",
    "    data['administrative_area_level_1'] = [component['long_name'] for component in loc['address_components'] if 'administrative_area_level_1' in component['types']]\n",
    "    data['administrative_area_level_1'] = data['administrative_area_level_1'][0] if data['administrative_area_level_1'] else ''\n",
    "    data['administrative_area_level_2'] = [component['long_name'] for component in loc['address_components'] if 'administrative_area_level_2' in component['types']]\n",
    "    data['administrative_area_level_2'] = data['administrative_area_level_2'][0] if data['administrative_area_level_2'] else ''\n",
    "    data['administrative_area_level_3'] = [component['long_name'] for component in loc['address_components'] if 'administrative_area_level_3' in component['types']]\n",
    "    data['administrative_area_level_3'] = data['administrative_area_level_3'][0] if data['administrative_area_level_3'] else ''\n",
    "    data['sublocality_level_1'] = [component['long_name'] for component in loc['address_components'] if 'sublocality_level_1' in component['types']]\n",
    "    data['sublocality_level_1'] = data['sublocality_level_1'][0] if data['sublocality_level_1'] else ''\n",
    "    data['locality'] = [component['long_name'] for component in loc['address_components'] if 'locality' in component['types']]\n",
    "    data['locality'] = data['locality'][0] if data['locality'] else ''\n",
    "    for loca in location:\n",
    "        postal_code = [component['long_name'] for component in loca['address_components'] if 'postal_code' in component['types']]\n",
    "        if postal_code:\n",
    "            data['zip_code'] = (postal_code[0])\n",
    "            break\n",
    "        else:\n",
    "            pass\n",
    "    df1 = df1.append(data, ignore_index=True)\n",
    "    print(i)"
   ]
  },
  {
   "cell_type": "code",
   "execution_count": null,
   "metadata": {},
   "outputs": [],
   "source": [
    "df1=df1.assign(Current_Address=df['Current Address'])\n",
    "df1.to_excel(\"Output.xlsx\",sheet_name='main')\n"
   ]
  }
 ],
 "metadata": {
  "kernelspec": {
   "display_name": "Python 3",
   "language": "python",
   "name": "python3"
  },
  "language_info": {
   "codemirror_mode": {
    "name": "ipython",
    "version": 3
   },
   "file_extension": ".py",
   "mimetype": "text/x-python",
   "name": "python",
   "nbconvert_exporter": "python",
   "pygments_lexer": "ipython3",
   "version": "3.11.1 (tags/v3.11.1:a7a450f, Dec  6 2022, 19:58:39) [MSC v.1934 64 bit (AMD64)]"
  },
  "orig_nbformat": 4,
  "vscode": {
   "interpreter": {
    "hash": "894fd886903807851c6453d05e70328260073b79d53223db8b8860ad1cc20331"
   }
  }
 },
 "nbformat": 4,
 "nbformat_minor": 2
}
